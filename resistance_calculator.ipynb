{
 "cells": [
  {
   "cell_type": "markdown",
   "source": [
    "## Modellering av dynamiska system\r\n",
    "### Laboratory Exercise 1: Modeling the Servo Motor\r\n",
    "\r\n",
    "#### Preparatory Exercises\r\n",
    "#### 1. Read only\r\n",
    "#### 2. Derive a state space model of the servo motor. Assume that the motor is driven by a voltage source.\r\n",
    "\r\n",
    "Answer: The DC-motor can be modelled as an electrical part and a mechanical part.\r\n",
    "\r\n",
    "The **electrical part** consists of a winding resistance $R$, an inductance $L$ and a back **emf** proportional to the angular velocity $\\dot{\\phi}$. The circuit equation can be expressed as: $U = L \\frac{di}{dt} + Ri + K_{emf}\\dot{\\phi}$\r\n",
    "\r\n",
    "<img src=\"images/motor.png\" height=\"20%\" width=\"20%\">\r\n",
    "\r\n",
    "The **mechanical part** is a motor torque $T_m$ between the rotor and stator which is proportional to the rotor current $i$ via the motor property $K_m$ minus the viscous friction in the motor. The rotor has an inertia $J$. The rotor acceleration is given by: $J\\ddot{\\phi} = T_m - T_L - b\\dot{\\phi} $, where $T_m = K_m i$ and $T_L$ is the external load on the shaft and $b$ the motor viscous friction constant .\r\n",
    "\r\n",
    "<img src=\"images/motormek.png\" height=\"15%\" width=\"15%\">\r\n",
    "\r\n",
    "The **differential equations** are:\r\n",
    "\r\n",
    "$\\frac{di}{dt} = \\frac{1}{L} \\big( U - K_{emf}\\dot{\\phi}-Ri \\big) $ <br>\r\n",
    "$\\ddot{\\phi} = \\frac{1}{J} \\big( K_m i - b\\dot{\\phi}\\big) $\r\n",
    "\r\n",
    "In state-space models, it is common to choose the state-space variable as the \"energy carrying\" variable in their energy ekvation, in this case, that means $x_1 = i$ and $x_2 = \\dot{\\phi}$. The differential equations can be rewritten:\r\n",
    "\r\n",
    "$\\dot{x_1} = \\frac{1}{L} \\big( U - K_{emf}x_2-Rx_1 \\big) $ <br>\r\n",
    "$\\dot{x_2} = \\frac{1}{J} \\big( K_m x_1 - b x_2 \\big) $\r\n",
    "\r\n",
    "The **state-space model** for the same system is (output can be chosen according to preference):\r\n",
    "\r\n",
    "\r\n",
    "#### 3. Find numerical values of the model parameters."
   ],
   "metadata": {}
  },
  {
   "cell_type": "code",
   "execution_count": 5,
   "source": [
    "print(\"hello world\")"
   ],
   "outputs": [
    {
     "output_type": "stream",
     "name": "stdout",
     "text": [
      "hello world\n"
     ]
    }
   ],
   "metadata": {}
  }
 ],
 "metadata": {
  "kernelspec": {
   "name": "python3",
   "display_name": "Python 3.8.6 64-bit"
  },
  "language_info": {
   "name": "python",
   "version": "3.8.6",
   "mimetype": "text/x-python",
   "codemirror_mode": {
    "name": "ipython",
    "version": 3
   },
   "pygments_lexer": "ipython3",
   "nbconvert_exporter": "python",
   "file_extension": ".py"
  },
  "interpreter": {
   "hash": "1baa965d5efe3ac65b79dfc60c0d706280b1da80fedb7760faf2759126c4f253"
  }
 },
 "nbformat": 4,
 "nbformat_minor": 4
}